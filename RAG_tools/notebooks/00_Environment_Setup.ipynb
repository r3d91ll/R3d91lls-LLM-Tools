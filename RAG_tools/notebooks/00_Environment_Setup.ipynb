{
 "cells": [
  {
   "cell_type": "markdown",
   "metadata": {},
   "source": [
    "# RAG Tools: Environment Setup\n",
    "\n",
    "## 1. Introduction\n",
    "\n",
    "This notebook focuses on setting up the basic environment for the RAG_tools project. We'll create a Conda environment, set up Docker containers for our databases, and create two essential utility tools: DockerComposeManager and config_utils.\n"
   ]
  },
  {
   "cell_type": "markdown",
   "metadata": {},
   "source": [
    "## 2. Conda and Docker\n",
    "\n",
    "We're using Conda for environment management and Docker for containerization. Conda allows us to create isolated Python environments, ensuring that our project's dependencies don't interfere with other projects or system-wide packages. This isolation makes it easier to reproduce our development environment across different machines.\n",
    "Docker, on the other hand, provides a way to package our entire application, including its dependencies and configuration, into containers. These containers can run consistently across different environments, from development to production. Using Docker also allows us to easily manage and scale our database services."
   ]
  },
  {
   "cell_type": "markdown",
   "metadata": {},
   "source": [
    "\n",
    "## 2. Project Structure\n",
    "\n",
    "Our initial project structure:\n",
    "\n",
    "```\n",
    "RAG_tools/\n",
    "├── config/\n",
    "│   ├── docker-compose.yml\n",
    "│   └── example.env\n",
    "├── notebooks/\n",
    "│   ├── 00_Environment_Setup.ipynb\n",
    "│   ├── 01_Project_Overview_and_Architecture.ipynb\n",
    "│   ├── 02_Model_Selection_and_Rationale.ipynb\n",
    "│   ├── 03_Chunking_Strategies.ipynb\n",
    "│   ├── 04_Database_Architecture_and_Integration.ipynb\n",
    "│   └── 05_Implementation_CodeBaseImporter.ipynb\n",
    "├── src/\n",
    "│   └── utils/\n",
    "│       ├── config_utils.py\n",
    "│       └── DockerComposeManager.py\n",
    "└── tests/\n",
    "```"
   ]
  },
  {
   "cell_type": "markdown",
   "metadata": {},
   "source": [
    "## 3. Environment Setup\n",
    "\n",
    "### 3.1 Create and Activate Conda Environment\n",
    "\n",
    "First, let's create our Conda environment and activate it. From the command line Not in the Jypter notebook but from the CLI in your working directory run the following code to setup your conda environment.\n",
    "```bash\n",
    "conda create -n ragtools python=3.12 -y\n",
    "conda init\n",
    "conda activate ragtools\n",
    "```\n",
    "\n",
    "### 3.2 Configure Conda Channels\n",
    "\n",
    "Next, we'll add the necessary Conda channels:\n",
    "\n"
   ]
  },
  {
   "cell_type": "code",
   "execution_count": null,
   "metadata": {
    "vscode": {
     "languageId": "shellscript"
    }
   },
   "outputs": [],
   "source": [
    "\n",
    "%%bash\n",
    "conda config --add channels conda-forge\n",
    "conda config --add channels pytorch\n"
   ]
  },
  {
   "cell_type": "markdown",
   "metadata": {},
   "source": [
    "\n",
    "\n",
    "### 3.3 Install Dependencies\n",
    "\n",
    "Now, let's install our dependencies, including pgvector:\n"
   ]
  },
  {
   "cell_type": "code",
   "execution_count": null,
   "metadata": {
    "vscode": {
     "languageId": "shellscript"
    }
   },
   "outputs": [],
   "source": [
    "%%bash\n",
    "conda install transformers psycopg2 numpy matplotlib PyYAML jupyter pandas scikit-learn python-dotenv neo4j-python-driver docker-py ipykernel pgvector -c pytorch -c conda-forge -y\n",
    "conda install pytorch torchvision torchaudio cpuonly -c pytorch -y\n",
    "conda install -y python-dotenv python-docker -c conda-forge\n"
   ]
  },
  {
   "cell_type": "markdown",
   "metadata": {},
   "source": [
    "\n",
    "\n",
    "### 3.4 Install Jupyter Kernel\n",
    "\n",
    "To ensure we can use this environment in Jupyter notebooks, let's install the IPython kernel:\n"
   ]
  },
  {
   "cell_type": "code",
   "execution_count": null,
   "metadata": {
    "vscode": {
     "languageId": "shellscript"
    }
   },
   "outputs": [],
   "source": [
    "%%bash\n",
    "python -m ipykernel install --user --name=ragtools\n"
   ]
  },
  {
   "cell_type": "markdown",
   "metadata": {},
   "source": [
    "### 3.5 Switch to the New Kernel\n",
    "\n",
    "After running these cells, you should restart your Jupyter kernel and select the 'ragtools' kernel to ensure you're working in the correct environment.\n",
    "\n",
    "To do this in Jupyter Notebook:\n",
    "1. Click on 'Kernel' in the top menu\n",
    "2. Select 'Change kernel'\n",
    "3. Choose 'ragtools' from the list\n",
    "\n",
    "In JupyterLab:\n",
    "1. Click on the kernel name in the top right corner of the notebook\n",
    "2. Select 'ragtools' from the list of available kernels\n",
    "\n",
    "After switching, you can verify the current environment by running:\n"
   ]
  },
  {
   "cell_type": "code",
   "execution_count": null,
   "metadata": {},
   "outputs": [],
   "source": [
    "import sys\n",
    "print(sys.executable)\n"
   ]
  },
  {
   "cell_type": "markdown",
   "metadata": {},
   "source": [
    "\n",
    "This should point to the Python interpreter in your 'ragtools' Conda environment.\n",
    "\n",
    "### 3.6 Verify Installation\n",
    "\n",
    "Let's verify that our environment is set up correctly:"
   ]
  },
  {
   "cell_type": "code",
   "execution_count": 2,
   "metadata": {},
   "outputs": [
    {
     "name": "stdout",
     "output_type": "stream",
     "text": [
      "Python version: 3.12.4 | packaged by conda-forge | (main, Jun 17 2024, 10:23:07) [GCC 12.3.0]\n",
      "\n",
      "Package versions:\n",
      "pytorch: 2.3.1 (Importable)\n",
      "transformers: 4.41.2 (Importable)\n",
      "psycopg2: 2.9.9 (Importable)\n",
      "numpy: 2.0.0 (Importable)\n",
      "matplotlib: 3.8.4 (Importable)\n",
      "jupyter: 1.0.0 (Importable)\n",
      "pandas: 2.2.2 (Importable)\n",
      "scikit-learn: 1.5.1 (Importable)\n",
      "python-dotenv: 1.0.1 (Importable)\n",
      "neo4j-python-driver: 5.22.0 (Importable)\n",
      "docker-py: 7.1.0 (Importable)\n",
      "python-docker: 0.2.0 (Importable)\n",
      "pgvector: 0.3.0 (Importable)\n",
      "\n",
      "PyTorch import successful. Version: 2.3.1\n",
      "\n",
      "All package checks completed.\n"
     ]
    }
   ],
   "source": [
    "import sys\n",
    "import subprocess\n",
    "import json\n",
    "import importlib\n",
    "\n",
    "def get_conda_package_info(package_name):\n",
    "    try:\n",
    "        result = subprocess.run(['conda', 'list', '--json'], capture_output=True, text=True)\n",
    "        packages = json.loads(result.stdout)\n",
    "        for package in packages:\n",
    "            if package['name'] == package_name:\n",
    "                return f\"{package_name}: {package['version']}\"\n",
    "        return f\"{package_name}: Not found in conda environment\"\n",
    "    except Exception as e:\n",
    "        return f\"Error getting conda info for {package_name}: {str(e)}\"\n",
    "\n",
    "def check_importable(package_name):\n",
    "    import_names = {\n",
    "        'pytorch': 'torch',\n",
    "        'scikit-learn': 'sklearn',\n",
    "        'python-dotenv': 'dotenv',\n",
    "        'neo4j': 'neo4j',\n",
    "        'docker': 'docker',\n",
    "    }\n",
    "    try:\n",
    "        importlib.import_module(import_names.get(package_name, package_name))\n",
    "        return \"Importable\"\n",
    "    except ImportError:\n",
    "        return \"Not importable\"\n",
    "\n",
    "print(f\"Python version: {sys.version}\")\n",
    "print(\"\\nPackage versions:\")\n",
    "\n",
    "packages = ['pytorch', 'transformers', 'psycopg2', 'numpy', 'matplotlib', \n",
    "            'jupyter', 'pandas', 'scikit-learn', 'python-dotenv', \n",
    "            'neo4j-python-driver', 'docker-py', 'python-docker', 'pgvector']\n",
    "\n",
    "for package in packages:\n",
    "    conda_info = get_conda_package_info(package)\n",
    "    import_name = package\n",
    "    if package == 'neo4j-python-driver':\n",
    "        import_name = 'neo4j'\n",
    "    elif package in ['docker-py', 'python-docker']:\n",
    "        import_name = 'docker'\n",
    "    import_status = check_importable(import_name)\n",
    "    print(f\"{conda_info} ({import_status})\")\n",
    "\n",
    "# Additional check for PyTorch\n",
    "try:\n",
    "    import torch\n",
    "    print(f\"\\nPyTorch import successful. Version: {torch.__version__}\")\n",
    "except ImportError:\n",
    "    print(\"\\nFailed to import PyTorch\")\n",
    "\n",
    "print(\"\\nAll package checks completed.\")\n"
   ]
  }
 ],
 "metadata": {
  "kernelspec": {
   "display_name": "codeimporter",
   "language": "python",
   "name": "python3"
  },
  "language_info": {
   "codemirror_mode": {
    "name": "ipython",
    "version": 3
   },
   "file_extension": ".py",
   "mimetype": "text/x-python",
   "name": "python",
   "nbconvert_exporter": "python",
   "pygments_lexer": "ipython3",
   "version": "3.12.4"
  }
 },
 "nbformat": 4,
 "nbformat_minor": 2
}
